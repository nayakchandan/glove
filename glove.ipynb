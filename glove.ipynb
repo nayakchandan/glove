{
 "cells": [
  {
   "cell_type": "code",
   "execution_count": 27,
   "metadata": {},
   "outputs": [],
   "source": [
    "# IMPORT STATEMENTS\n",
    "import numpy as np\n",
    "import sys\n",
    "from nltk.corpus import stopwords\n",
    "import string"
   ]
  },
  {
   "cell_type": "markdown",
   "metadata": {},
   "source": [
    "**Glo**bal **Ve**ctors or Glove for short is an unsupervised ML algorithm used for converting words into vectors which encode semantic relationships"
   ]
  },
  {
   "cell_type": "code",
   "execution_count": 64,
   "metadata": {},
   "outputs": [],
   "source": [
    "stop_words = list(stopwords.words('english'))\n",
    "punctuation = list(string.punctuation)\n",
    "stop_words.extend(punctuation)\n",
    "glove = {}\n",
    "with open('glove.6B.300d.txt',encoding='utf-8',mode='r') as f:\n",
    "    for line in f.readlines():\n",
    "        line = line.split()\n",
    "        if line[0] not in stop_words:\n",
    "            glove[line[0]] = np.array(line[1:],dtype=np.float32)\n",
    "        "
   ]
  },
  {
   "cell_type": "code",
   "execution_count": 65,
   "metadata": {},
   "outputs": [],
   "source": [
    "def distance(v1,v2):\n",
    "    ''' \n",
    "    Takes in two vectors and returns the euclidian distance between them\n",
    "    '''\n",
    "    return np.linalg.norm(v1-v2)\n",
    "\n",
    "def top_n_closest_words(word,glove,n):\n",
    "    ''' \n",
    "    Given a word and a glove dictionary object, returns the n closest words\n",
    "    '''\n",
    "\n",
    "    # We will append (word1, distance from word) where word1 is present as keys in glove dictionary\n",
    "    result = []\n",
    "\n",
    "    for key in glove.keys():\n",
    "        dist = distance(glove[key],glove[word])\n",
    "        result.append((key,dist))\n",
    "\n",
    "    #sort based on keys:\n",
    "    result = sorted(result,key=lambda x: x[1])\n",
    "\n",
    "    return result[1:n+1]\n"
   ]
  },
  {
   "cell_type": "code",
   "execution_count": 75,
   "metadata": {},
   "outputs": [],
   "source": [
    "test = 'frog'"
   ]
  },
  {
   "cell_type": "code",
   "execution_count": 77,
   "metadata": {},
   "outputs": [
    {
     "data": {
      "text/plain": [
       "[('toad', 6.0483704),\n",
       " ('frogs', 6.137622),\n",
       " ('monkey', 6.92538),\n",
       " ('squirrel', 7.0190525),\n",
       " ('snake', 7.0272217),\n",
       " ('toads', 7.0277367),\n",
       " ('rodent', 7.1164293),\n",
       " ('65stk', 7.123204),\n",
       " ('parrot', 7.1322513),\n",
       " ('bulletinyyy', 7.188897)]"
      ]
     },
     "execution_count": 77,
     "metadata": {},
     "output_type": "execute_result"
    }
   ],
   "source": [
    "top_n_closest_words(test,glove,10)"
   ]
  },
  {
   "cell_type": "code",
   "execution_count": null,
   "metadata": {},
   "outputs": [],
   "source": []
  },
  {
   "cell_type": "code",
   "execution_count": null,
   "metadata": {},
   "outputs": [],
   "source": []
  }
 ],
 "metadata": {
  "interpreter": {
   "hash": "51257e3d6adcf4f249880334112f68e609bc91a365f964b61c4cee61bd4b0e6f"
  },
  "kernelspec": {
   "display_name": "Python 3.8.11 64-bit ('base': conda)",
   "name": "python3"
  },
  "language_info": {
   "codemirror_mode": {
    "name": "ipython",
    "version": 3
   },
   "file_extension": ".py",
   "mimetype": "text/x-python",
   "name": "python",
   "nbconvert_exporter": "python",
   "pygments_lexer": "ipython3",
   "version": "3.8.11"
  },
  "orig_nbformat": 4
 },
 "nbformat": 4,
 "nbformat_minor": 2
}
